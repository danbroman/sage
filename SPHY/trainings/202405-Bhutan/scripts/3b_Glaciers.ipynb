{
 "cells": [
  {
   "cell_type": "markdown",
   "id": "7ab34544-e34c-4f4b-8ba0-324a3372b358",
   "metadata": {},
   "source": [
    "***\n",
    "In this notebook, we will show how to create glacier maps to represent glacial extent and properties for a SPHY model input.\n",
    "***"
   ]
  },
  {
   "cell_type": "markdown",
   "id": "0fe47130-636d-4719-9ed3-21c7eb49017a",
   "metadata": {},
   "source": [
    "# 00. Load Packages"
   ]
  },
  {
   "cell_type": "code",
   "execution_count": 17,
   "id": "23bc9e16-15ec-4f54-a469-d5421d178564",
   "metadata": {},
   "outputs": [],
   "source": [
    "# TODO review and edit\n",
    "import numpy as np\n",
    "import pandas as pd\n",
    "import geopandas as gpd\n",
    "import matplotlib.pyplot as plt\n",
    "\n",
    "import os\n",
    "import pcraster as pcr\n",
    "import pcr_tool\n",
    "\n",
    "import pandas as pd\n",
    "import cartopy\n",
    "from shapely.geometry import box\n",
    "from shapely.geometry import Polygon\n",
    "from shapely.geometry import mapping\n",
    "import rasterio\n",
    "from rasterio.features import rasterize\n"
   ]
  },
  {
   "cell_type": "markdown",
   "id": "0ffcf5d7-d974-42fc-a715-97acc93a23c2",
   "metadata": {},
   "source": [
    "# 01. Basic Setup for a Bhutan watershed (Punatsangchhu, Wangchhu, Amochhu, and Jaldakah)"
   ]
  },
  {
   "cell_type": "code",
   "execution_count": 2,
   "id": "72a4fc36-ddf4-4e08-94bf-adca474cc2d2",
   "metadata": {},
   "outputs": [],
   "source": [
    "epsg_model = 5266 # Bhutan National Grid: a transverse Mercator projection\n",
    "epsg_lonlat = 4326 # the common lat-lon coordinate reference system\n",
    "\n",
    "path_data = os.path.join('..', 'data')\n",
    "path_output = os.path.join('..', 'input') # the \"input\" folder will be directly used as an input path for the SPHY model run\n",
    "os.makedirs(path_output, exist_ok = True)\n",
    "\n",
    "# plotting options\n",
    "flag_plot_aguila = True\n",
    "flag_plot_cartopy = True\n",
    "\n",
    "# Bhutan Administrative Boundaries (Level 1) to be added in a plot\n",
    "path_shape = os.path.join(path_data, 'SHAPE', 'btn_admbnda_adm1_bnlc_20201026.shp')\n",
    "shape_geometry = cartopy.io.shapereader.Reader(path_shape).geometries()\n",
    "shape_feature = cartopy.feature.ShapelyFeature(shape_geometry, crs = cartopy.crs.PlateCarree(), facecolor = 'none', linewidth = 0.25)"
   ]
  },
  {
   "cell_type": "markdown",
   "id": "1606fd38-13bc-4829-ad91-0111398ff2bb",
   "metadata": {},
   "source": [
    "# 02. Load Clonemap and DEM"
   ]
  },
  {
   "cell_type": "markdown",
   "id": "f53515e7-4b08-4421-b19e-99885efd25c8",
   "metadata": {},
   "source": [
    "First, we need to declare the class that we will be using throughout this notebook, with an EPSG to define a clonemap."
   ]
  },
  {
   "cell_type": "code",
   "execution_count": 3,
   "id": "4931ad19-27a3-452d-8262-c165504ceacd",
   "metadata": {},
   "outputs": [
    {
     "name": "stdout",
     "output_type": "stream",
     "text": [
      "- Input EPSG:\n",
      "5266\n"
     ]
    }
   ],
   "source": [
    "print(f'- Input EPSG:\\n{epsg_model}')\n",
    "map_clone = pcr_tool.clonemap(epsg = epsg_model)"
   ]
  },
  {
   "cell_type": "code",
   "execution_count": 4,
   "id": "c8dc8811-61a0-4210-a97a-b06ab6f4f563",
   "metadata": {},
   "outputs": [
    {
     "name": "stdout",
     "output_type": "stream",
     "text": [
      "- Input PCRaster Path for Clonemap:\n",
      "../input/clone.map\n",
      "- Input PCRaster Path for DEM:\n",
      "../input/dem.map\n",
      "- Outputs:\n",
      "<pcraster._pcraster.Field object at 0x16887ee30>\n"
     ]
    }
   ],
   "source": [
    "# load clonemap\n",
    "path_clonemap = os.path.join(path_output, 'clone.map')\n",
    "print(f'- Input PCRaster Path for Clonemap:\\n{path_clonemap}')\n",
    "map_clone.load_clonemap(path = path_clonemap)\n",
    "\n",
    "# load DEM\n",
    "path_dem = os.path.join(path_output, 'dem.map')\n",
    "print(f'- Input PCRaster Path for DEM:\\n{path_dem}')\n",
    "map_dem = map_clone.read_pcraster(path = path_dem)\n",
    "map_clone.set_dem(map_dem)\n",
    "\n",
    "print('- Outputs:')\n",
    "print(map_dem)\n",
    "\n",
    "# plots\n",
    "if flag_plot_aguila:\n",
    "    pcr.aguila(map_clone.clonemap)\n",
    "    pcr.aguila(map_dem)"
   ]
  },
  {
   "cell_type": "markdown",
   "id": "b624ed65-03ad-4cf4-9ad7-bb2cdd22af04",
   "metadata": {},
   "source": [
    "# 03. Load Glacier Data"
   ]
  },
  {
   "cell_type": "markdown",
   "id": "96afbbc3-75e0-44dc-953f-c50ae56be6a3",
   "metadata": {},
   "source": [
    "Read in glacier dataset. Here we are using ICIMOD's Hindu-Kush Himalaya glacier dataset which provides glacier extent from 2005 ± 3 years\n",
    "https://doi.org/10.26066/RDS.31029"
   ]
  },
  {
   "cell_type": "code",
   "execution_count": 5,
   "id": "dc22b1a4-f08c-48f9-9e6f-4c54538fa795",
   "metadata": {},
   "outputs": [],
   "source": [
    "# load glacier dataset\n",
    "path_glacier = os.path.join(path_data, 'GLACIER', 'HKH_CIDC_5basins_all.shp')\n",
    "gpd_glacier = gpd.read_file(path_glacier)\n",
    "\n",
    "# convert coordinate system to Bhutan CRS\n",
    "gpd_glacier_md = gpd_glacier.to_crs(epsg_model)"
   ]
  },
  {
   "cell_type": "markdown",
   "id": "0af56a6d-ba8e-43ba-b153-377ba0ebb933",
   "metadata": {},
   "source": [
    "# 04. Create Domain Bounding Box and Clip Glacier Data"
   ]
  },
  {
   "cell_type": "code",
   "execution_count": 6,
   "id": "b18cac0c-82fe-4d8f-8e24-b1d8392f15aa",
   "metadata": {},
   "outputs": [],
   "source": [
    "# convert dem to xarray\n",
    "da_dem = map_clone.to_xarray(\n",
    "    field = path_dem, # pcraster.Field to convert into xarray.DataArray\n",
    "    varname = 'dem', # variable name in xarray.DataArray\n",
    "    )\n",
    "ds_dem = da_dem.to_dataset(name = 'elev_media')\n",
    "\n",
    "# create bounding box to clip glacier data\n",
    "x_min = da_dem.x.min().values\n",
    "x_max = da_dem.x.max().values\n",
    "y_min = da_dem.y.min().values\n",
    "y_max = da_dem.y.max().values\n",
    "\n",
    "poly_bb = box(x_min, y_min, x_max, y_max)\n",
    "\n",
    "gdf_bb = gpd.GeoDataFrame([1], geometry=[poly_bb], crs=epsg_model)"
   ]
  },
  {
   "cell_type": "code",
   "execution_count": 7,
   "id": "9f629419-c5c3-46f0-aefd-4419939be809",
   "metadata": {},
   "outputs": [],
   "source": [
    "# clip glacier data\n",
    "gpd_glacier_clip = gpd_glacier_md.clip(gdf_bb)"
   ]
  },
  {
   "cell_type": "code",
   "execution_count": 8,
   "id": "fcf070df-d4de-4fd5-8492-0cdb825b21d1",
   "metadata": {
    "scrolled": true
   },
   "outputs": [
    {
     "data": {
      "text/plain": [
       "<Axes: >"
      ]
     },
     "execution_count": 8,
     "metadata": {},
     "output_type": "execute_result"
    },
    {
     "data": {
      "image/png": "[encoded data removed]",
      "text/plain": [
       "<Figure size 640x480 with 1 Axes>"
      ]
     },
     "metadata": {},
     "output_type": "display_data"
    }
   ],
   "source": [
    "# plot clipped data\n",
    "gpd_glacier_clip.plot()"
   ]
  },
  {
   "cell_type": "markdown",
   "id": "330ce94f-3e00-4234-8fbc-f9cb1cac22ac",
   "metadata": {},
   "source": [
    "# "
   ]
  },
  {
   "cell_type": "markdown",
   "id": "e12a69ba-b108-4823-a114-9706b69268c7",
   "metadata": {},
   "source": [
    "# 05. Create Glacier Table"
   ]
  },
  {
   "cell_type": "code",
   "execution_count": 9,
   "id": "dd85bd0d-f227-44b3-80ef-b2a59624af45",
   "metadata": {},
   "outputs": [],
   "source": [
    "# create polygons for each grid cell\n",
    "\n",
    "y_vec = da_dem['y'].values # extract y dimension data from Xarray\n",
    "x_vec = da_dem['x'].values # extract x dimension data from Xarray\n",
    "\n",
    "x_inc = x_vec[1] - x_vec[0] # assumes uniform increment\n",
    "y_inc = y_vec[1] - y_vec[0] # assumes uniform increment\n",
    "\n",
    "polygons = []\n",
    "for i in range(len(y_vec)):\n",
    "    for j in range(len(x_vec)):\n",
    "        polygon = Polygon([(x_vec[j] - x_inc / 2, y_vec[i] + y_inc / 2),\n",
    "                           (x_vec[j] + x_inc / 2, y_vec[i] + y_inc / 2),\n",
    "                           (x_vec[j] + x_inc / 2, y_vec[i] - y_inc / 2),\n",
    "                           (x_vec[j] - x_inc / 2, y_vec[i] - y_inc / 2)])\n",
    "        polygons.append(polygon)\n",
    "\n",
    "gpd_grid = gpd.GeoDataFrame(geometry = polygons, crs = epsg_model)\n",
    "\n",
    "for var_name in ds_dem.data_vars:\n",
    "    gpd_grid[var_name] = ds_dem[var_name].values.flatten()\n",
    "\n",
    "# compute grid cell areas\n",
    "gpd_grid['area'] = gpd_grid['geometry'].area\n",
    "\n",
    "# create unique ID for each grid cell\n",
    "gpd_grid['MOD_ID'] = range(1, len(gpd_grid) + 1)"
   ]
  },
  {
   "cell_type": "code",
   "execution_count": 10,
   "id": "d6c80124-b3ae-43d9-a4aa-180fa89baa76",
   "metadata": {},
   "outputs": [],
   "source": [
    "# create unique list of glaciers from glacier ID and condition (debris-covered and clean-ice; in `Glaciers` attribute)\n",
    "glac_list = gpd_glacier_clip[['GLIMS_ID', 'Glaciers']].drop_duplicates().reset_index(drop=True)\n",
    "\n",
    "# create unique glacier ID\n",
    "glac_list['GLAC_ID'] = 1000 + glac_list.index + 1"
   ]
  },
  {
   "cell_type": "code",
   "execution_count": 11,
   "id": "45f81a67-09d2-4f3c-9071-752b97581c71",
   "metadata": {},
   "outputs": [],
   "source": [
    "# build glacier table\n",
    "glac_tbl = pd.DataFrame()\n",
    "\n",
    "# iterate over each row in glac_list\n",
    "for i, row in glac_list.iterrows():\n",
    "    id_sel = row['GLIMS_ID']\n",
    "    cond_sel = row['Glaciers']\n",
    "    glacid_sel = row['GLAC_ID']\n",
    "\n",
    "    # select individual glaciers\n",
    "    glac_sf_sel = gpd_glacier_clip[(gpd_glacier_clip['GLIMS_ID'] == id_sel) &\n",
    "                                    (gpd_glacier_clip['Glaciers'] == cond_sel)]\n",
    "\n",
    "    # calculate the intersection and area\n",
    "    glac_tbl_temp = gpd.overlay(gpd_grid, glac_sf_sel, how='intersection')\n",
    "    glac_tbl_temp['area_glac'] = glac_tbl_temp.area\n",
    "    glac_tbl_temp['FRAC_GLACIER'] = glac_tbl_temp['area_glac'] / glac_tbl_temp['area']\n",
    "\n",
    "    # rename columns to match SPHY format\n",
    "    glac_tbl_temp = glac_tbl_temp.drop(columns='geometry')\n",
    "    glac_tbl_temp = glac_tbl_temp.rename(columns={'elev_media': 'MOD_H', 'Thickness': 'ICE_DEPTH'})\n",
    "    glac_tbl_temp['DEBRIS'] = 0 if cond_sel == 'Clean Ice' else 1\n",
    "    glac_tbl_temp['GLAC_H'] = glac_tbl_temp['MOD_H'] + glac_tbl_temp['ICE_DEPTH']\n",
    "    glac_tbl_temp['GLAC_ID'] = glacid_sel\n",
    "    glac_tbl_temp = glac_tbl_temp[['MOD_ID', 'GLAC_ID', 'MOD_H', 'GLAC_H', 'DEBRIS', 'FRAC_GLACIER', 'ICE_DEPTH']]\n",
    "\n",
    "    # append temporary dataframe to glacier table\n",
    "    glac_tbl = pd.concat([glac_tbl, glac_tbl_temp], ignore_index=True)\n",
    "\n",
    "# arrange table\n",
    "glac_tbl_fmt = glac_tbl.sort_values(by=['MOD_ID', 'GLAC_ID'])\n",
    "\n",
    "# create unique ID for each glacier-grid cell intersection\n",
    "glac_tbl_fmt['U_ID'] = range(1, len(glac_tbl_fmt) + 1)\n",
    "\n",
    "# select columns needed by SPHY\n",
    "glac_tbl_fmt = glac_tbl_fmt[['U_ID', 'MOD_ID', 'GLAC_ID', 'MOD_H', 'GLAC_H', 'DEBRIS', 'FRAC_GLACIER', 'ICE_DEPTH']]\n"
   ]
  },
  {
   "cell_type": "code",
   "execution_count": 12,
   "id": "a860ab8d-ec30-4dd7-ba27-a4377a2472aa",
   "metadata": {},
   "outputs": [
    {
     "data": {
      "text/html": [
       "<div>\n",
       "<style scoped>\n",
       "    .dataframe tbody tr th:only-of-type {\n",
       "        vertical-align: middle;\n",
       "    }\n",
       "\n",
       "    .dataframe tbody tr th {\n",
       "        vertical-align: top;\n",
       "    }\n",
       "\n",
       "    .dataframe thead th {\n",
       "        text-align: right;\n",
       "    }\n",
       "</style>\n",
       "<table border=\"1\" class=\"dataframe\">\n",
       "  <thead>\n",
       "    <tr style=\"text-align: right;\">\n",
       "      <th></th>\n",
       "      <th>U_ID</th>\n",
       "      <th>MOD_ID</th>\n",
       "      <th>GLAC_ID</th>\n",
       "      <th>MOD_H</th>\n",
       "      <th>GLAC_H</th>\n",
       "      <th>DEBRIS</th>\n",
       "      <th>FRAC_GLACIER</th>\n",
       "      <th>ICE_DEPTH</th>\n",
       "    </tr>\n",
       "  </thead>\n",
       "  <tbody>\n",
       "    <tr>\n",
       "      <th>0</th>\n",
       "      <td>1</td>\n",
       "      <td>41487</td>\n",
       "      <td>1001</td>\n",
       "      <td>5361.0</td>\n",
       "      <td>5378.06</td>\n",
       "      <td>0</td>\n",
       "      <td>0.122546</td>\n",
       "      <td>17.06</td>\n",
       "    </tr>\n",
       "    <tr>\n",
       "      <th>1</th>\n",
       "      <td>2</td>\n",
       "      <td>41487</td>\n",
       "      <td>1002</td>\n",
       "      <td>5361.0</td>\n",
       "      <td>5382.51</td>\n",
       "      <td>0</td>\n",
       "      <td>0.094789</td>\n",
       "      <td>21.51</td>\n",
       "    </tr>\n",
       "    <tr>\n",
       "      <th>2</th>\n",
       "      <td>3</td>\n",
       "      <td>41867</td>\n",
       "      <td>1002</td>\n",
       "      <td>4929.0</td>\n",
       "      <td>4950.51</td>\n",
       "      <td>0</td>\n",
       "      <td>0.105596</td>\n",
       "      <td>21.51</td>\n",
       "    </tr>\n",
       "    <tr>\n",
       "      <th>3</th>\n",
       "      <td>4</td>\n",
       "      <td>42644</td>\n",
       "      <td>1003</td>\n",
       "      <td>4455.0</td>\n",
       "      <td>4476.21</td>\n",
       "      <td>0</td>\n",
       "      <td>0.006057</td>\n",
       "      <td>21.21</td>\n",
       "    </tr>\n",
       "    <tr>\n",
       "      <th>4</th>\n",
       "      <td>5</td>\n",
       "      <td>42645</td>\n",
       "      <td>1003</td>\n",
       "      <td>4443.0</td>\n",
       "      <td>4464.21</td>\n",
       "      <td>0</td>\n",
       "      <td>0.002680</td>\n",
       "      <td>21.21</td>\n",
       "    </tr>\n",
       "    <tr>\n",
       "      <th>...</th>\n",
       "      <td>...</td>\n",
       "      <td>...</td>\n",
       "      <td>...</td>\n",
       "      <td>...</td>\n",
       "      <td>...</td>\n",
       "      <td>...</td>\n",
       "      <td>...</td>\n",
       "      <td>...</td>\n",
       "    </tr>\n",
       "    <tr>\n",
       "      <th>3975</th>\n",
       "      <td>3994</td>\n",
       "      <td>68134</td>\n",
       "      <td>1981</td>\n",
       "      <td>5678.0</td>\n",
       "      <td>5735.10</td>\n",
       "      <td>0</td>\n",
       "      <td>0.315617</td>\n",
       "      <td>57.10</td>\n",
       "    </tr>\n",
       "    <tr>\n",
       "      <th>3993</th>\n",
       "      <td>3995</td>\n",
       "      <td>68134</td>\n",
       "      <td>1989</td>\n",
       "      <td>5678.0</td>\n",
       "      <td>5705.38</td>\n",
       "      <td>0</td>\n",
       "      <td>0.007113</td>\n",
       "      <td>27.38</td>\n",
       "    </tr>\n",
       "    <tr>\n",
       "      <th>3996</th>\n",
       "      <td>3996</td>\n",
       "      <td>68510</td>\n",
       "      <td>1990</td>\n",
       "      <td>5765.0</td>\n",
       "      <td>5794.84</td>\n",
       "      <td>0</td>\n",
       "      <td>0.182546</td>\n",
       "      <td>29.84</td>\n",
       "    </tr>\n",
       "    <tr>\n",
       "      <th>3997</th>\n",
       "      <td>3997</td>\n",
       "      <td>68511</td>\n",
       "      <td>1990</td>\n",
       "      <td>5943.0</td>\n",
       "      <td>5972.84</td>\n",
       "      <td>0</td>\n",
       "      <td>0.213343</td>\n",
       "      <td>29.84</td>\n",
       "    </tr>\n",
       "    <tr>\n",
       "      <th>3994</th>\n",
       "      <td>3998</td>\n",
       "      <td>68513</td>\n",
       "      <td>1989</td>\n",
       "      <td>5775.0</td>\n",
       "      <td>5802.38</td>\n",
       "      <td>0</td>\n",
       "      <td>0.064281</td>\n",
       "      <td>27.38</td>\n",
       "    </tr>\n",
       "  </tbody>\n",
       "</table>\n",
       "<p>3998 rows × 8 columns</p>\n",
       "</div>"
      ],
      "text/plain": [
       "      U_ID  MOD_ID  GLAC_ID   MOD_H   GLAC_H  DEBRIS  FRAC_GLACIER  ICE_DEPTH\n",
       "0        1   41487     1001  5361.0  5378.06       0      0.122546      17.06\n",
       "1        2   41487     1002  5361.0  5382.51       0      0.094789      21.51\n",
       "2        3   41867     1002  4929.0  4950.51       0      0.105596      21.51\n",
       "3        4   42644     1003  4455.0  4476.21       0      0.006057      21.21\n",
       "4        5   42645     1003  4443.0  4464.21       0      0.002680      21.21\n",
       "...    ...     ...      ...     ...      ...     ...           ...        ...\n",
       "3975  3994   68134     1981  5678.0  5735.10       0      0.315617      57.10\n",
       "3993  3995   68134     1989  5678.0  5705.38       0      0.007113      27.38\n",
       "3996  3996   68510     1990  5765.0  5794.84       0      0.182546      29.84\n",
       "3997  3997   68511     1990  5943.0  5972.84       0      0.213343      29.84\n",
       "3994  3998   68513     1989  5775.0  5802.38       0      0.064281      27.38\n",
       "\n",
       "[3998 rows x 8 columns]"
      ]
     },
     "execution_count": 12,
     "metadata": {},
     "output_type": "execute_result"
    }
   ],
   "source": [
    "# U_ID: unique ID; combination of MOD_ID and GLAC_ID\n",
    "# MOD_ID: nominal map with a unique ID for each model grid cell\n",
    "# GLAC_ID: nominal map with a unique ID for each glacier\n",
    "# MOD_H: model cell DEM elevation\n",
    "# GLAC_H: glacier elevation\n",
    "# DEBRIS (0/1): flag indicating whether debris-covered\n",
    "# FRAC_GLACIER: fraction of grid cell as glacier\n",
    "# ICE_DEPTH: nominal glacier thickness; difference between model cell DEM  elevation and glacier elevation\n",
    "\n",
    "# show glacier table\n",
    "glac_tbl_fmt"
   ]
  },
  {
   "cell_type": "code",
   "execution_count": 17,
   "id": "3456bacc-5698-485e-9f10-794ba8edf87f",
   "metadata": {},
   "outputs": [],
   "source": [
    "# save glacier table to csv\n",
    "glac_tbl_fmt.to_csv('../input/GlacTable_bhutan_py.csv', index=False)\n"
   ]
  },
  {
   "cell_type": "code",
   "execution_count": 14,
   "id": "68ac83c2-94eb-48bf-811e-40d7100ee1d3",
   "metadata": {},
   "outputs": [],
   "source": [
    "# create t lapse table\n",
    "tlapse_df = pd.DataFrame({\n",
    "    'month': range(1, 13),\n",
    "    'fact': [0.005] * 12\n",
    "})\n",
    "\n",
    "tlapse_df.to_csv('../input/TLapse_Bhutan.csv', header = False, index = False)\n",
    "\n",
    "# create glacier id map file\n"
   ]
  },
  {
   "cell_type": "code",
   "execution_count": 18,
   "id": "f80d6542-eb5f-4c6d-b0af-99dcb09d0c2d",
   "metadata": {},
   "outputs": [],
   "source": [
    "# create grid cell id map file\n",
    "\n",
    "# Determine the bounding box of the GeoDataFrame\n",
    "minx, miny, maxx, maxy = gpd_grid.total_bounds\n",
    "\n",
    "# Define the resolution (cell size) for the raster\n",
    "resolution = 1000  # Example resolution in units of the CRS\n",
    "\n",
    "# Calculate the number of rows and columns in the raster\n",
    "width = (maxx - minx) / resolution\n",
    "height = (maxy - miny) / resolution\n",
    "\n",
    "# Define the affine transform for the raster\n",
    "transform = rasterio.transform.from_origin(minx, maxy, resolution, resolution)\n",
    "\n",
    "# Function to determine value for rasterization (MOD_ID in this case)\n",
    "def make_raster_value(row):\n",
    "    return row.MOD_ID  # We use 'MOD_ID' column\n",
    "\n",
    "# Create (burn) raster\n",
    "burned_raster = rasterize(\n",
    "    [(mapping(geom), make_raster_value(row)) for geom, row in zip(gpd_grid.geometry, gpd_grid.itertuples())],\n",
    "    out_shape=(int(height), int(width)),\n",
    "    transform=transform,\n",
    "    fill=0,  # Fill value outside of polygons\n",
    "    dtype=rasterio.int32  # Ensure the dtype fits the MOD_IDs\n",
    ")\n",
    "\n",
    "tiff_filename = '../input/ModelID.tif'\n",
    "with rasterio.open(\n",
    "    tiff_filename,\n",
    "    'w',\n",
    "    driver='GTiff',\n",
    "    height=burned_raster.shape[0],\n",
    "    width=burned_raster.shape[1],\n",
    "    count=1,  # Single band\n",
    "    dtype=burned_raster.dtype,\n",
    "    crs=gpd_grid.crs.to_string(),  # Use CRS from the GeoDataFrame\n",
    "    transform=transform\n",
    ") as dst:\n",
    "    dst.write(burned_raster, indexes=1)\n",
    "\n",
    "# Convert the tiff to pcraster format\n",
    "pcraster_filename = '../input/ModelID.map'\n",
    "tiff_arr = rasterio.open(tiff_filename).read(1)\n",
    "rows, cols = tiff_arr.shape\n",
    "pcr.setclone(rows, cols, resolution, minx, maxy)  # This sets the spatial reference for PCRaster\n",
    "pcr_arr = pcr.numpy2pcr(pcr.Scalar, tiff_arr.astype(np.float32), 0)  # Convert numpy array to PCRaster\n",
    "pcr.report(pcr_arr, pcraster_filename)  # Save array to a .map file\n"
   ]
  },
  {
   "cell_type": "code",
   "execution_count": 29,
   "id": "bf632f67-0cb5-4633-860d-12aec759f7dd",
   "metadata": {},
   "outputs": [],
   "source": [
    "# create glacier id map file\n",
    "\n",
    "# use the bounding box of the grid cell ids\n",
    "minx, miny, maxx, maxy = gpd_grid.total_bounds\n",
    "\n",
    "# Define the resolution (cell size) for the raster\n",
    "resolution = 100  # Example resolution in units of the CRS\n",
    "\n",
    "# Calculate the number of rows and columns in the raster\n",
    "width = (maxx - minx) / resolution\n",
    "height = (maxy - miny) / resolution\n",
    "\n",
    "# Define the affine transform for the raster\n",
    "transform = rasterio.transform.from_origin(minx, maxy, resolution, resolution)\n",
    "\n",
    "# Function to determine value for rasterization (MOD_ID in this case)\n",
    "def make_raster_value(row):\n",
    "    return row.ID  # We use 'ID' column\n",
    "\n",
    "# Create (burn) raster\n",
    "burned_raster = rasterize(\n",
    "    [(mapping(geom), make_raster_value(row)) for geom, row in zip(gpd_glacier_clip.geometry, gpd_glacier_clip.itertuples())],\n",
    "    out_shape=(int(height), int(width)),\n",
    "    transform=transform,\n",
    "    fill=0,  # Fill value outside of polygons\n",
    "    dtype=rasterio.int32  # Ensure the dtype fits the MOD_IDs\n",
    ")\n",
    "\n",
    "tiff_filename = '../input/GlacID.tif'\n",
    "with rasterio.open(\n",
    "    tiff_filename,\n",
    "    'w',\n",
    "    driver='GTiff',\n",
    "    height=burned_raster.shape[0],\n",
    "    width=burned_raster.shape[1],\n",
    "    count=1,  # Single band\n",
    "    dtype=burned_raster.dtype,\n",
    "    crs=gpd_glacier_clip.crs.to_string(),\n",
    "    transform=transform\n",
    ") as dst:\n",
    "    dst.write(burned_raster, indexes=1)\n",
    "\n",
    "# Convert the tiff to pcraster format\n",
    "pcraster_filename = '../input/GlacID.map'\n",
    "tiff_arr = rasterio.open(tiff_filename).read(1)\n",
    "rows, cols = tiff_arr.shape\n",
    "pcr.setclone(rows, cols, resolution, minx, maxy)  # This sets the spatial reference for PCRaster\n",
    "pcr_arr = pcr.numpy2pcr(pcr.Scalar, tiff_arr.astype(np.float32), 0)  # Convert numpy array to PCRaster\n",
    "pcr.report(pcr_arr, pcraster_filename)  # Save array to a .map file"
   ]
  },
  {
   "cell_type": "code",
   "execution_count": null,
   "id": "82a28049-0782-48ba-90b8-f7a2685915ae",
   "metadata": {},
   "outputs": [],
   "source": []
  }
 ],
 "metadata": {
  "kernelspec": {
   "display_name": "Python 3 (ipykernel)",
   "language": "python",
   "name": "python3"
  },
  "language_info": {
   "codemirror_mode": {
    "name": "ipython",
    "version": 3
   },
   "file_extension": ".py",
   "mimetype": "text/x-python",
   "name": "python",
   "nbconvert_exporter": "python",
   "pygments_lexer": "ipython3",
   "version": "3.11.7"
  }
 },
 "nbformat": 4,
 "nbformat_minor": 5
}
